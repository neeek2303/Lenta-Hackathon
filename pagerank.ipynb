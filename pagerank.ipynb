{
 "cells": [
  {
   "cell_type": "markdown",
   "metadata": {},
   "source": [
    "# Importing libraries"
   ]
  },
  {
   "cell_type": "code",
   "execution_count": 1,
   "metadata": {},
   "outputs": [],
   "source": [
    "import pandas as pd\n",
    "import numpy as np\n",
    "import matplotlib.pyplot as plt\n",
    "%matplotlib inline\n",
    "\n",
    "from numba import njit\n",
    "from tqdm import tqdm\n",
    "import scipy.sparse as sp\n",
    "\n",
    "import networkx as nx"
   ]
  },
  {
   "cell_type": "code",
   "execution_count": 5,
   "metadata": {},
   "outputs": [],
   "source": [
    "data_trans_filtered = pd.read_csv('./finale_filtered.csv')"
   ]
  },
  {
   "cell_type": "code",
   "execution_count": 13,
   "metadata": {},
   "outputs": [],
   "source": [
    "num_items = 10_000\n",
    "items_freq = data_trans_filtered['material'].value_counts()[:num_items]\n",
    "items_freq.to_csv('items_freq.csv')\n",
    "\n",
    "tmp = items_freq.reset_index()['index']\n",
    "item_to_idx = pd.Series(data = tmp.index, index = tmp.values)\n",
    "item_to_idx.to_csv('items_to_index.csv')\n",
    "idx_to_item = pd.Series(data = tmp.values, index = tmp.index)"
   ]
  },
  {
   "cell_type": "code",
   "execution_count": 17,
   "metadata": {},
   "outputs": [],
   "source": [
    "data_trans_filtered = data_trans_filtered[data_trans_filtered['material'].isin(item_to_idx.index)]"
   ]
  },
  {
   "cell_type": "code",
   "execution_count": 18,
   "metadata": {},
   "outputs": [],
   "source": [
    "basket = data_trans_filtered.groupby('chq_id').material.apply(list)"
   ]
  },
  {
   "cell_type": "code",
   "execution_count": 19,
   "metadata": {},
   "outputs": [],
   "source": [
    "@njit\n",
    "def iter_comatrix(comatrix, sum_item, items):\n",
    "    for j in range(len(items)):\n",
    "        sum_item[items[j]] += 1\n",
    "        for k in range(j+1, len(items)):\n",
    "            z1, z2 = items[j], items[k]\n",
    "            comatrix[z1, z2] += 1\n",
    "            comatrix[z2, z1] += 1\n",
    "    "
   ]
  },
  {
   "cell_type": "code",
   "execution_count": 20,
   "metadata": {},
   "outputs": [
    {
     "name": "stderr",
     "output_type": "stream",
     "text": [
      "  0%|          | 0/1890876 [00:00<?, ?it/s]/home/ruslan/anaconda3/lib/python3.8/site-packages/numba/core/ir_utils.py:2031: NumbaPendingDeprecationWarning: \u001b[1m\n",
      "Encountered the use of a type that is scheduled for deprecation: type 'reflected list' found for argument 'items' of function 'iter_comatrix'.\n",
      "\n",
      "For more information visit http://numba.pydata.org/numba-doc/latest/reference/deprecation.html#deprecation-of-reflection-for-list-and-set-types\n",
      "\u001b[1m\n",
      "File \"<ipython-input-19-2b11ee35c6ed>\", line 2:\u001b[0m\n",
      "\u001b[1m@njit\n",
      "\u001b[1mdef iter_comatrix(comatrix, sum_item, items):\n",
      "\u001b[0m\u001b[1m^\u001b[0m\u001b[0m\n",
      "\u001b[0m\n",
      "  warnings.warn(NumbaPendingDeprecationWarning(msg, loc=loc))\n",
      "100%|██████████| 1890876/1890876 [00:38<00:00, 48517.36it/s]\n"
     ]
    }
   ],
   "source": [
    "comatrix = np.zeros((num_items, num_items), dtype='int')\n",
    "sum_item = np.zeros((num_items, ), dtype='int')\n",
    "for i in tqdm(range(len(basket))):\n",
    "    items = list(set(basket[i]))\n",
    "    items = [item_to_idx[items[i]] for i in range(len(items))]\n",
    "    iter_comatrix(comatrix, sum_item, items)"
   ]
  },
  {
   "cell_type": "code",
   "execution_count": 21,
   "metadata": {},
   "outputs": [],
   "source": [
    "def calculate_lift_matrix(comatrix, sum_item):\n",
    "    return (comatrix / sum_item[:, None]) / (sum_item[None, :] / len(basket))"
   ]
  },
  {
   "cell_type": "code",
   "execution_count": 22,
   "metadata": {},
   "outputs": [],
   "source": [
    "def calculate_confidence_matrix(comatrix, sum_item):\n",
    "    return comatrix / sum_item[None, :]"
   ]
  },
  {
   "cell_type": "code",
   "execution_count": 133,
   "metadata": {},
   "outputs": [],
   "source": [
    "lift_matrix = calculate_lift_matrix(comatrix, sum_item)"
   ]
  },
  {
   "cell_type": "code",
   "execution_count": 134,
   "metadata": {},
   "outputs": [],
   "source": [
    "adj_matrix = lift_matrix.copy()\n",
    "adj_matrix[adj_matrix <= 1] = 0\n"
   ]
  },
  {
   "cell_type": "code",
   "execution_count": 138,
   "metadata": {},
   "outputs": [
    {
     "data": {
      "text/plain": [
       "0.13294"
      ]
     },
     "execution_count": 138,
     "metadata": {},
     "output_type": "execute_result"
    }
   ],
   "source": [
    "(adj_matrix > 0).sum()/10_000**2"
   ]
  },
  {
   "cell_type": "markdown",
   "metadata": {},
   "source": [
    "# Networkx"
   ]
  },
  {
   "cell_type": "code",
   "execution_count": 26,
   "metadata": {},
   "outputs": [],
   "source": [
    "import networkx as nx"
   ]
  },
  {
   "cell_type": "code",
   "execution_count": 27,
   "metadata": {},
   "outputs": [],
   "source": [
    "G = nx.convert_matrix.from_numpy_array(adj_matrix)\n"
   ]
  },
  {
   "cell_type": "code",
   "execution_count": 28,
   "metadata": {},
   "outputs": [],
   "source": [
    "pr = nx.pagerank(G)"
   ]
  },
  {
   "cell_type": "code",
   "execution_count": 88,
   "metadata": {},
   "outputs": [],
   "source": [
    "vs = np.array(list(pr.values()))"
   ]
  },
  {
   "cell_type": "code",
   "execution_count": 46,
   "metadata": {},
   "outputs": [
    {
     "data": {
      "text/plain": [
       "(array([1.000e+00, 1.400e+01, 1.560e+02, 1.034e+03, 3.162e+03, 4.311e+03,\n",
       "        1.068e+03, 1.960e+02, 4.800e+01, 1.000e+01]),\n",
       " array([2.37869780e-05, 3.87665686e-05, 5.37461591e-05, 6.87257497e-05,\n",
       "        8.37053402e-05, 9.86849307e-05, 1.13664521e-04, 1.28644112e-04,\n",
       "        1.43623702e-04, 1.58603293e-04, 1.73582883e-04]),\n",
       " <a list of 10 Patch objects>)"
      ]
     },
     "execution_count": 46,
     "metadata": {},
     "output_type": "execute_result"
    },
    {
     "data": {
      "image/png": "[encoded data removed]",
      "text/plain": [
       "<Figure size 432x288 with 1 Axes>"
      ]
     },
     "metadata": {
      "needs_background": "light"
     },
     "output_type": "display_data"
    }
   ],
   "source": [
    "plt.hist(vs)"
   ]
  },
  {
   "cell_type": "code",
   "execution_count": 127,
   "metadata": {},
   "outputs": [],
   "source": [
    "list_product = list(idx_to_item[vs.argsort()[-100:]])"
   ]
  },
  {
   "cell_type": "code",
   "execution_count": 107,
   "metadata": {},
   "outputs": [],
   "source": [
    "def get_sums(data, list_product):\n",
    "    bool_flag = data.isin(list_product).material ### если хотя бы один из ключевых продуктов в чеке\n",
    "    check_whith = data[bool_flag].chq_id.unique()\n",
    "    check_whithout = data[~bool_flag].chq_id.unique()\n",
    "#     only_key_prod_sum = data[bool_flag].groupby('chq_id').sales_sum.sum()\n",
    "    all_sum = data.groupby('chq_id')['sales_count'].sum()\n",
    "    sum_with = all_sum[check_whith] #- only_key_prod_sum\n",
    "    sum_with_out = all_sum[check_whithout]\n",
    "    return sum_with, sum_with_out"
   ]
  },
  {
   "cell_type": "code",
   "execution_count": 126,
   "metadata": {},
   "outputs": [
    {
     "data": {
      "text/plain": [
       "<matplotlib.collections.PathCollection at 0x7fd6db391e80>"
      ]
     },
     "execution_count": 126,
     "metadata": {},
     "output_type": "execute_result"
    },
    {
     "data": {
      "image/png": "[encoded data removed]",
      "text/plain": [
       "<Figure size 1080x432 with 1 Axes>"
      ]
     },
     "metadata": {
      "needs_background": "light"
     },
     "output_type": "display_data"
    }
   ],
   "source": [
    "plt.figure(figsize=(15, 6))\n",
    "plt.title('10 most popular PG')\n",
    "plt.scatter(item_to_idx.values, items_freq.values, s=10)\n",
    "plt.scatter(item_to_idx[list_product].values, items_freq[item_to_idx[list_product]].values, s=10, c='r')"
   ]
  },
  {
   "cell_type": "code",
   "execution_count": 108,
   "metadata": {},
   "outputs": [],
   "source": [
    "diffs = get_sums(data_trans_filtered, list_product)"
   ]
  },
  {
   "cell_type": "code",
   "execution_count": 111,
   "metadata": {},
   "outputs": [],
   "source": [
    "sum_with, sum_with_out = diffs"
   ]
  },
  {
   "cell_type": "code",
   "execution_count": 112,
   "metadata": {},
   "outputs": [
    {
     "data": {
      "text/plain": [
       "(8.843071944055916, 5.096707676273547)"
      ]
     },
     "execution_count": 112,
     "metadata": {},
     "output_type": "execute_result"
    }
   ],
   "source": [
    "sum_with.mean(), sum_with_out.mean()"
   ]
  },
  {
   "cell_type": "code",
   "execution_count": 113,
   "metadata": {},
   "outputs": [
    {
     "data": {
      "text/plain": [
       "((17875,), (1890175,))"
      ]
     },
     "execution_count": 113,
     "metadata": {},
     "output_type": "execute_result"
    }
   ],
   "source": [
    "sum_with.shape, sum_with_out.shape"
   ]
  },
  {
   "cell_type": "markdown",
   "metadata": {},
   "source": [
    "# Importing for Gephi"
   ]
  },
  {
   "cell_type": "code",
   "execution_count": 152,
   "metadata": {},
   "outputs": [],
   "source": [
    "H = nx.relabel_nodes(G, idx_to_item.to_dict())"
   ]
  },
  {
   "cell_type": "code",
   "execution_count": 153,
   "metadata": {},
   "outputs": [],
   "source": [
    "nx.write_gexf(H, \"lenta_graph.gexf\")"
   ]
  },
  {
   "cell_type": "code",
   "execution_count": null,
   "metadata": {},
   "outputs": [],
   "source": []
  },
  {
   "cell_type": "code",
   "execution_count": null,
   "metadata": {},
   "outputs": [],
   "source": []
  },
  {
   "cell_type": "code",
   "execution_count": null,
   "metadata": {},
   "outputs": [],
   "source": []
  },
  {
   "cell_type": "code",
   "execution_count": null,
   "metadata": {},
   "outputs": [],
   "source": []
  }
 ],
 "metadata": {
  "kernelspec": {
   "display_name": "core",
   "language": "python",
   "name": "core"
  },
  "language_info": {
   "codemirror_mode": {
    "name": "ipython",
    "version": 3
   },
   "file_extension": ".py",
   "mimetype": "text/x-python",
   "name": "python",
   "nbconvert_exporter": "python",
   "pygments_lexer": "ipython3",
   "version": "3.8.3"
  }
 },
 "nbformat": 4,
 "nbformat_minor": 4
}
